{
 "cells": [
  {
   "cell_type": "markdown",
   "id": "21751c14",
   "metadata": {
    "id": "a2945b87"
   },
   "source": [
    "## Downloading database"
   ]
  },
  {
   "cell_type": "code",
   "execution_count": 5,
   "id": "759d7748",
   "metadata": {
    "colab": {
     "base_uri": "https://localhost:8080/"
    },
    "execution": {
     "iopub.execute_input": "2023-11-16T05:37:14.171843Z",
     "iopub.status.busy": "2023-11-16T05:37:14.171372Z",
     "iopub.status.idle": "2023-11-16T05:37:15.314606Z",
     "shell.execute_reply": "2023-11-16T05:37:15.312813Z",
     "shell.execute_reply.started": "2023-11-16T05:37:14.171808Z"
    },
    "executionInfo": {
     "elapsed": 1269,
     "status": "ok",
     "timestamp": 1700111942002,
     "user": {
      "displayName": "Jesus Tolentino Ramirez",
      "userId": "05690869890081942440"
     },
     "user_tz": 360
    },
    "id": "bc02f347",
    "outputId": "865da1d8-da26-4c92-d2c6-234d72b7e3e3"
   },
   "outputs": [
    {
     "name": "stdout",
     "output_type": "stream",
     "text": [
      "unzip:  cannot find or open jena_climate_2009_2016.csv.zip, jena_climate_2009_2016.csv.zip.zip or jena_climate_2009_2016.csv.zip.ZIP.\n"
     ]
    }
   ],
   "source": [
    "# !wget https://s3.amazonaws.com/keras-datasets/jena_climate_2009_2016.csv.zip\n",
    "# !unzip /kaggle/input/weatherjena/"
   ]
  },
  {
   "cell_type": "markdown",
   "id": "bd30832b",
   "metadata": {
    "id": "f53ef32a"
   },
   "source": [
    "## Libraries to use"
   ]
  },
  {
   "cell_type": "code",
   "execution_count": 17,
   "id": "edd7b624",
   "metadata": {
    "executionInfo": {
     "elapsed": 208,
     "status": "ok",
     "timestamp": 1700112502596,
     "user": {
      "displayName": "Jesus Tolentino Ramirez",
      "userId": "05690869890081942440"
     },
     "user_tz": 360
    },
    "id": "2caeffa8-aafe-459c-9d5e-68b27c9d0de0",
    "tags": []
   },
   "outputs": [],
   "source": [
    "import os\n",
    "import numpy as np\n",
    "import pandas as pd\n",
    "import matplotlib.pyplot as plt\n",
    "\n",
    "import tensorflow as tf\n",
    "from tensorflow import keras\n",
    "from tensorflow.keras.models import Model, Sequential\n",
    "from tensorflow.keras.layers import Input, LSTM, Dense, Dropout\n",
    "from tensorflow.keras.callbacks import ModelCheckpoint\n",
    "from tensorflow.keras.models import load_model"
   ]
  },
  {
   "cell_type": "markdown",
   "id": "5f0578f1",
   "metadata": {
    "id": "cdc8bc36"
   },
   "source": [
    "## Preparing data to use"
   ]
  },
  {
   "cell_type": "code",
   "execution_count": 3,
   "id": "f94c0a90",
   "metadata": {
    "colab": {
     "base_uri": "https://localhost:8080/",
     "height": 300
    },
    "executionInfo": {
     "elapsed": 1776,
     "status": "ok",
     "timestamp": 1700112506299,
     "user": {
      "displayName": "Jesus Tolentino Ramirez",
      "userId": "05690869890081942440"
     },
     "user_tz": 360
    },
    "id": "8e2a107b",
    "outputId": "d1c668a9-4915-4a78-a363-b8bd6a1d9fea",
    "tags": []
   },
   "outputs": [
    {
     "data": {
      "text/html": [
       "<div>\n",
       "<style scoped>\n",
       "    .dataframe tbody tr th:only-of-type {\n",
       "        vertical-align: middle;\n",
       "    }\n",
       "\n",
       "    .dataframe tbody tr th {\n",
       "        vertical-align: top;\n",
       "    }\n",
       "\n",
       "    .dataframe thead th {\n",
       "        text-align: right;\n",
       "    }\n",
       "</style>\n",
       "<table border=\"1\" class=\"dataframe\">\n",
       "  <thead>\n",
       "    <tr style=\"text-align: right;\">\n",
       "      <th></th>\n",
       "      <th>p (mbar)</th>\n",
       "      <th>T (degC)</th>\n",
       "      <th>Tpot (K)</th>\n",
       "      <th>Tdew (degC)</th>\n",
       "      <th>rh (%)</th>\n",
       "      <th>VPmax (mbar)</th>\n",
       "      <th>VPact (mbar)</th>\n",
       "      <th>VPdef (mbar)</th>\n",
       "      <th>sh (g/kg)</th>\n",
       "      <th>H2OC (mmol/mol)</th>\n",
       "      <th>rho (g/m**3)</th>\n",
       "      <th>wv (m/s)</th>\n",
       "      <th>max. wv (m/s)</th>\n",
       "      <th>wd (deg)</th>\n",
       "    </tr>\n",
       "  </thead>\n",
       "  <tbody>\n",
       "    <tr>\n",
       "      <th>count</th>\n",
       "      <td>420451.000000</td>\n",
       "      <td>420451.000000</td>\n",
       "      <td>420451.000000</td>\n",
       "      <td>420451.000000</td>\n",
       "      <td>420451.000000</td>\n",
       "      <td>420451.000000</td>\n",
       "      <td>420451.000000</td>\n",
       "      <td>420451.000000</td>\n",
       "      <td>420451.000000</td>\n",
       "      <td>420451.000000</td>\n",
       "      <td>420451.000000</td>\n",
       "      <td>420451.000000</td>\n",
       "      <td>420451.000000</td>\n",
       "      <td>420451.000000</td>\n",
       "    </tr>\n",
       "    <tr>\n",
       "      <th>mean</th>\n",
       "      <td>989.212508</td>\n",
       "      <td>9.448567</td>\n",
       "      <td>283.491182</td>\n",
       "      <td>4.954011</td>\n",
       "      <td>76.007045</td>\n",
       "      <td>13.575089</td>\n",
       "      <td>9.532524</td>\n",
       "      <td>4.042483</td>\n",
       "      <td>6.021630</td>\n",
       "      <td>9.638982</td>\n",
       "      <td>1216.069883</td>\n",
       "      <td>2.130309</td>\n",
       "      <td>3.532381</td>\n",
       "      <td>174.726164</td>\n",
       "    </tr>\n",
       "    <tr>\n",
       "      <th>std</th>\n",
       "      <td>8.359454</td>\n",
       "      <td>8.423685</td>\n",
       "      <td>8.504820</td>\n",
       "      <td>6.730411</td>\n",
       "      <td>16.477126</td>\n",
       "      <td>7.739481</td>\n",
       "      <td>4.183895</td>\n",
       "      <td>4.897270</td>\n",
       "      <td>2.655973</td>\n",
       "      <td>4.235130</td>\n",
       "      <td>39.977065</td>\n",
       "      <td>1.541830</td>\n",
       "      <td>2.340482</td>\n",
       "      <td>86.675965</td>\n",
       "    </tr>\n",
       "    <tr>\n",
       "      <th>min</th>\n",
       "      <td>913.600000</td>\n",
       "      <td>-23.010000</td>\n",
       "      <td>250.600000</td>\n",
       "      <td>-25.010000</td>\n",
       "      <td>12.950000</td>\n",
       "      <td>0.950000</td>\n",
       "      <td>0.790000</td>\n",
       "      <td>0.000000</td>\n",
       "      <td>0.500000</td>\n",
       "      <td>0.800000</td>\n",
       "      <td>1059.450000</td>\n",
       "      <td>0.000000</td>\n",
       "      <td>0.000000</td>\n",
       "      <td>0.000000</td>\n",
       "    </tr>\n",
       "    <tr>\n",
       "      <th>25%</th>\n",
       "      <td>984.200000</td>\n",
       "      <td>3.360000</td>\n",
       "      <td>277.430000</td>\n",
       "      <td>0.240000</td>\n",
       "      <td>65.210000</td>\n",
       "      <td>7.780000</td>\n",
       "      <td>6.210000</td>\n",
       "      <td>0.870000</td>\n",
       "      <td>3.920000</td>\n",
       "      <td>6.290000</td>\n",
       "      <td>1187.490000</td>\n",
       "      <td>0.990000</td>\n",
       "      <td>1.760000</td>\n",
       "      <td>124.800000</td>\n",
       "    </tr>\n",
       "    <tr>\n",
       "      <th>50%</th>\n",
       "      <td>989.570000</td>\n",
       "      <td>9.410000</td>\n",
       "      <td>283.460000</td>\n",
       "      <td>5.210000</td>\n",
       "      <td>79.300000</td>\n",
       "      <td>11.820000</td>\n",
       "      <td>8.860000</td>\n",
       "      <td>2.190000</td>\n",
       "      <td>5.590000</td>\n",
       "      <td>8.960000</td>\n",
       "      <td>1213.800000</td>\n",
       "      <td>1.760000</td>\n",
       "      <td>2.960000</td>\n",
       "      <td>198.100000</td>\n",
       "    </tr>\n",
       "    <tr>\n",
       "      <th>75%</th>\n",
       "      <td>994.720000</td>\n",
       "      <td>15.470000</td>\n",
       "      <td>289.530000</td>\n",
       "      <td>10.070000</td>\n",
       "      <td>89.400000</td>\n",
       "      <td>17.600000</td>\n",
       "      <td>12.350000</td>\n",
       "      <td>5.300000</td>\n",
       "      <td>7.800000</td>\n",
       "      <td>12.480000</td>\n",
       "      <td>1242.770000</td>\n",
       "      <td>2.860000</td>\n",
       "      <td>4.740000</td>\n",
       "      <td>234.100000</td>\n",
       "    </tr>\n",
       "    <tr>\n",
       "      <th>max</th>\n",
       "      <td>1015.350000</td>\n",
       "      <td>37.280000</td>\n",
       "      <td>311.340000</td>\n",
       "      <td>23.110000</td>\n",
       "      <td>100.000000</td>\n",
       "      <td>63.770000</td>\n",
       "      <td>28.320000</td>\n",
       "      <td>46.010000</td>\n",
       "      <td>18.130000</td>\n",
       "      <td>28.820000</td>\n",
       "      <td>1393.540000</td>\n",
       "      <td>14.630000</td>\n",
       "      <td>23.500000</td>\n",
       "      <td>360.000000</td>\n",
       "    </tr>\n",
       "  </tbody>\n",
       "</table>\n",
       "</div>"
      ],
      "text/plain": [
       "            p (mbar)       T (degC)       Tpot (K)    Tdew (degC)  \\\n",
       "count  420451.000000  420451.000000  420451.000000  420451.000000   \n",
       "mean      989.212508       9.448567     283.491182       4.954011   \n",
       "std         8.359454       8.423685       8.504820       6.730411   \n",
       "min       913.600000     -23.010000     250.600000     -25.010000   \n",
       "25%       984.200000       3.360000     277.430000       0.240000   \n",
       "50%       989.570000       9.410000     283.460000       5.210000   \n",
       "75%       994.720000      15.470000     289.530000      10.070000   \n",
       "max      1015.350000      37.280000     311.340000      23.110000   \n",
       "\n",
       "              rh (%)   VPmax (mbar)   VPact (mbar)   VPdef (mbar)  \\\n",
       "count  420451.000000  420451.000000  420451.000000  420451.000000   \n",
       "mean       76.007045      13.575089       9.532524       4.042483   \n",
       "std        16.477126       7.739481       4.183895       4.897270   \n",
       "min        12.950000       0.950000       0.790000       0.000000   \n",
       "25%        65.210000       7.780000       6.210000       0.870000   \n",
       "50%        79.300000      11.820000       8.860000       2.190000   \n",
       "75%        89.400000      17.600000      12.350000       5.300000   \n",
       "max       100.000000      63.770000      28.320000      46.010000   \n",
       "\n",
       "           sh (g/kg)  H2OC (mmol/mol)   rho (g/m**3)       wv (m/s)  \\\n",
       "count  420451.000000    420451.000000  420451.000000  420451.000000   \n",
       "mean        6.021630         9.638982    1216.069883       2.130309   \n",
       "std         2.655973         4.235130      39.977065       1.541830   \n",
       "min         0.500000         0.800000    1059.450000       0.000000   \n",
       "25%         3.920000         6.290000    1187.490000       0.990000   \n",
       "50%         5.590000         8.960000    1213.800000       1.760000   \n",
       "75%         7.800000        12.480000    1242.770000       2.860000   \n",
       "max        18.130000        28.820000    1393.540000      14.630000   \n",
       "\n",
       "       max. wv (m/s)       wd (deg)  \n",
       "count  420451.000000  420451.000000  \n",
       "mean        3.532381     174.726164  \n",
       "std         2.340482      86.675965  \n",
       "min         0.000000       0.000000  \n",
       "25%         1.760000     124.800000  \n",
       "50%         2.960000     198.100000  \n",
       "75%         4.740000     234.100000  \n",
       "max        23.500000     360.000000  "
      ]
     },
     "execution_count": 3,
     "metadata": {},
     "output_type": "execute_result"
    }
   ],
   "source": [
    "data = pd.read_csv(\"jena_climate_2009_2016.csv\")\n",
    "# data.shape\n",
    "# data.head()\n",
    "data.describe()"
   ]
  },
  {
   "cell_type": "code",
   "execution_count": 4,
   "id": "454d353c",
   "metadata": {
    "colab": {
     "base_uri": "https://localhost:8080/",
     "height": 206
    },
    "executionInfo": {
     "elapsed": 253,
     "status": "ok",
     "timestamp": 1700111955111,
     "user": {
      "displayName": "Jesus Tolentino Ramirez",
      "userId": "05690869890081942440"
     },
     "user_tz": 360
    },
    "id": "D9IHxpo9v1rA",
    "outputId": "709032d1-d6b3-4451-c098-04816e0cccb2",
    "tags": []
   },
   "outputs": [
    {
     "data": {
      "text/html": [
       "<div>\n",
       "<style scoped>\n",
       "    .dataframe tbody tr th:only-of-type {\n",
       "        vertical-align: middle;\n",
       "    }\n",
       "\n",
       "    .dataframe tbody tr th {\n",
       "        vertical-align: top;\n",
       "    }\n",
       "\n",
       "    .dataframe thead th {\n",
       "        text-align: right;\n",
       "    }\n",
       "</style>\n",
       "<table border=\"1\" class=\"dataframe\">\n",
       "  <thead>\n",
       "    <tr style=\"text-align: right;\">\n",
       "      <th></th>\n",
       "      <th>T (degC)</th>\n",
       "    </tr>\n",
       "  </thead>\n",
       "  <tbody>\n",
       "    <tr>\n",
       "      <th>0</th>\n",
       "      <td>-8.02</td>\n",
       "    </tr>\n",
       "    <tr>\n",
       "      <th>1</th>\n",
       "      <td>-8.41</td>\n",
       "    </tr>\n",
       "    <tr>\n",
       "      <th>2</th>\n",
       "      <td>-8.51</td>\n",
       "    </tr>\n",
       "    <tr>\n",
       "      <th>3</th>\n",
       "      <td>-8.31</td>\n",
       "    </tr>\n",
       "    <tr>\n",
       "      <th>4</th>\n",
       "      <td>-8.27</td>\n",
       "    </tr>\n",
       "  </tbody>\n",
       "</table>\n",
       "</div>"
      ],
      "text/plain": [
       "   T (degC)\n",
       "0     -8.02\n",
       "1     -8.41\n",
       "2     -8.51\n",
       "3     -8.31\n",
       "4     -8.27"
      ]
     },
     "execution_count": 4,
     "metadata": {},
     "output_type": "execute_result"
    }
   ],
   "source": [
    "### for univariate LSTM\n",
    "\n",
    "# extract temperature feature as DataFrame so that shape is as required by LSTM layer (layer, sequence_lenght, feature)\n",
    "temperature = data[['T (degC)']]\n",
    "# print(temperature.shape)\n",
    "temperature.head()"
   ]
  },
  {
   "cell_type": "code",
   "execution_count": 5,
   "id": "f3efcb9a",
   "metadata": {
    "colab": {
     "base_uri": "https://localhost:8080/",
     "height": 206
    },
    "executionInfo": {
     "elapsed": 256,
     "status": "ok",
     "timestamp": 1700111967188,
     "user": {
      "displayName": "Jesus Tolentino Ramirez",
      "userId": "05690869890081942440"
     },
     "user_tz": 360
    },
    "id": "DsPaPcDvoJLG",
    "outputId": "1c9f500a-af98-40b1-b212-49ed16446e75",
    "tags": []
   },
   "outputs": [
    {
     "data": {
      "text/html": [
       "<div>\n",
       "<style scoped>\n",
       "    .dataframe tbody tr th:only-of-type {\n",
       "        vertical-align: middle;\n",
       "    }\n",
       "\n",
       "    .dataframe tbody tr th {\n",
       "        vertical-align: top;\n",
       "    }\n",
       "\n",
       "    .dataframe thead th {\n",
       "        text-align: right;\n",
       "    }\n",
       "</style>\n",
       "<table border=\"1\" class=\"dataframe\">\n",
       "  <thead>\n",
       "    <tr style=\"text-align: right;\">\n",
       "      <th></th>\n",
       "      <th>T (degC)</th>\n",
       "      <th>p (mbar)</th>\n",
       "      <th>rh (%)</th>\n",
       "      <th>H2OC (mmol/mol)</th>\n",
       "      <th>rho (g/m**3)</th>\n",
       "    </tr>\n",
       "  </thead>\n",
       "  <tbody>\n",
       "    <tr>\n",
       "      <th>0</th>\n",
       "      <td>-8.02</td>\n",
       "      <td>996.52</td>\n",
       "      <td>93.3</td>\n",
       "      <td>3.12</td>\n",
       "      <td>1307.75</td>\n",
       "    </tr>\n",
       "    <tr>\n",
       "      <th>1</th>\n",
       "      <td>-8.41</td>\n",
       "      <td>996.57</td>\n",
       "      <td>93.4</td>\n",
       "      <td>3.03</td>\n",
       "      <td>1309.80</td>\n",
       "    </tr>\n",
       "    <tr>\n",
       "      <th>2</th>\n",
       "      <td>-8.51</td>\n",
       "      <td>996.53</td>\n",
       "      <td>93.9</td>\n",
       "      <td>3.02</td>\n",
       "      <td>1310.24</td>\n",
       "    </tr>\n",
       "    <tr>\n",
       "      <th>3</th>\n",
       "      <td>-8.31</td>\n",
       "      <td>996.51</td>\n",
       "      <td>94.2</td>\n",
       "      <td>3.08</td>\n",
       "      <td>1309.19</td>\n",
       "    </tr>\n",
       "    <tr>\n",
       "      <th>4</th>\n",
       "      <td>-8.27</td>\n",
       "      <td>996.51</td>\n",
       "      <td>94.1</td>\n",
       "      <td>3.09</td>\n",
       "      <td>1309.00</td>\n",
       "    </tr>\n",
       "  </tbody>\n",
       "</table>\n",
       "</div>"
      ],
      "text/plain": [
       "   T (degC)  p (mbar)  rh (%)  H2OC (mmol/mol)  rho (g/m**3)\n",
       "0     -8.02    996.52    93.3             3.12       1307.75\n",
       "1     -8.41    996.57    93.4             3.03       1309.80\n",
       "2     -8.51    996.53    93.9             3.02       1310.24\n",
       "3     -8.31    996.51    94.2             3.08       1309.19\n",
       "4     -8.27    996.51    94.1             3.09       1309.00"
      ]
     },
     "execution_count": 5,
     "metadata": {},
     "output_type": "execute_result"
    }
   ],
   "source": [
    "### for multivariate LSTM\n",
    "\n",
    "features = data.loc[:, ['T (degC)', 'p (mbar)', 'rh (%)', 'H2OC (mmol/mol)', 'rho (g/m**3)']]\n",
    "# print(features.shape)\n",
    "features.head()"
   ]
  },
  {
   "cell_type": "code",
   "execution_count": 6,
   "id": "d3638867",
   "metadata": {
    "colab": {
     "base_uri": "https://localhost:8080/",
     "height": 843
    },
    "executionInfo": {
     "elapsed": 833,
     "status": "ok",
     "timestamp": 1700111982730,
     "user": {
      "displayName": "Jesus Tolentino Ramirez",
      "userId": "05690869890081942440"
     },
     "user_tz": 360
    },
    "id": "705056c0",
    "outputId": "0ecc3bc6-9fe3-47af-aee4-3387a759f53a",
    "tags": []
   },
   "outputs": [
    {
     "data": {
      "image/png": "[encoded data removed]",
      "text/plain": [
       "<Figure size 640x480 with 1 Axes>"
      ]
     },
     "metadata": {},
     "output_type": "display_data"
    },
    {
     "data": {
      "image/png": "[encoded data removed]",
      "text/plain": [
       "<Figure size 640x480 with 1 Axes>"
      ]
     },
     "metadata": {},
     "output_type": "display_data"
    }
   ],
   "source": [
    "### One week of data plotted (normalised)\n",
    "plt.plot(range(1440*7), temperature[:1440*7])\n",
    "plt.show()\n",
    "plt.plot(range(1440*7), features[:1440*7])\n",
    "plt.show()"
   ]
  },
  {
   "cell_type": "markdown",
   "id": "50ddd761",
   "metadata": {
    "id": "cc7a274d"
   },
   "source": [
    "### Definition of Train, Validation and Test datasets"
   ]
  },
  {
   "cell_type": "markdown",
   "id": "1029b98f",
   "metadata": {
    "id": "rqIMB_tuz838"
   },
   "source": [
    "For data segmentation"
   ]
  },
  {
   "cell_type": "code",
   "execution_count": 7,
   "id": "960281e2",
   "metadata": {
    "executionInfo": {
     "elapsed": 325,
     "status": "ok",
     "timestamp": 1700111989266,
     "user": {
      "displayName": "Jesus Tolentino Ramirez",
      "userId": "05690869890081942440"
     },
     "user_tz": 360
    },
    "id": "44c30a3f",
    "tags": []
   },
   "outputs": [],
   "source": [
    "num_train_samples = len(data)//2\n",
    "num_val_samples = len(data)//4\n",
    "num_test_samples = num_val_samples"
   ]
  },
  {
   "cell_type": "markdown",
   "id": "89ff5c0f",
   "metadata": {
    "id": "JS_pYU030HYI"
   },
   "source": [
    "Univariate timeseries"
   ]
  },
  {
   "cell_type": "code",
   "execution_count": 93,
   "id": "86e0b7a9",
   "metadata": {
    "colab": {
     "base_uri": "https://localhost:8080/",
     "height": 206
    },
    "executionInfo": {
     "elapsed": 560,
     "status": "ok",
     "timestamp": 1700112487800,
     "user": {
      "displayName": "Jesus Tolentino Ramirez",
      "userId": "05690869890081942440"
     },
     "user_tz": 360
    },
    "id": "RxLbhaDfl1_1",
    "outputId": "75e41a43-18e9-4c76-fc4e-011b01ad6c82",
    "tags": []
   },
   "outputs": [
    {
     "data": {
      "text/html": [
       "<div>\n",
       "<style scoped>\n",
       "    .dataframe tbody tr th:only-of-type {\n",
       "        vertical-align: middle;\n",
       "    }\n",
       "\n",
       "    .dataframe tbody tr th {\n",
       "        vertical-align: top;\n",
       "    }\n",
       "\n",
       "    .dataframe thead th {\n",
       "        text-align: right;\n",
       "    }\n",
       "</style>\n",
       "<table border=\"1\" class=\"dataframe\">\n",
       "  <thead>\n",
       "    <tr style=\"text-align: right;\">\n",
       "      <th></th>\n",
       "      <th>T (degC)</th>\n",
       "    </tr>\n",
       "  </thead>\n",
       "  <tbody>\n",
       "    <tr>\n",
       "      <th>0</th>\n",
       "      <td>-1.920636</td>\n",
       "    </tr>\n",
       "    <tr>\n",
       "      <th>1</th>\n",
       "      <td>-1.965100</td>\n",
       "    </tr>\n",
       "    <tr>\n",
       "      <th>2</th>\n",
       "      <td>-1.976501</td>\n",
       "    </tr>\n",
       "    <tr>\n",
       "      <th>3</th>\n",
       "      <td>-1.953699</td>\n",
       "    </tr>\n",
       "    <tr>\n",
       "      <th>4</th>\n",
       "      <td>-1.949139</td>\n",
       "    </tr>\n",
       "  </tbody>\n",
       "</table>\n",
       "</div>"
      ],
      "text/plain": [
       "   T (degC)\n",
       "0 -1.920636\n",
       "1 -1.965100\n",
       "2 -1.976501\n",
       "3 -1.953699\n",
       "4 -1.949139"
      ]
     },
     "execution_count": 93,
     "metadata": {},
     "output_type": "execute_result"
    }
   ],
   "source": [
    "### normalising data\n",
    "temperature = (temperature-temperature[:num_train_samples].mean(axis=0))/temperature[:num_train_samples].std(axis=0)\n",
    "temperature.head()"
   ]
  },
  {
   "cell_type": "code",
   "execution_count": 9,
   "id": "121e6ca4",
   "metadata": {
    "executionInfo": {
     "elapsed": 152,
     "status": "ok",
     "timestamp": 1700111991064,
     "user": {
      "displayName": "Jesus Tolentino Ramirez",
      "userId": "05690869890081942440"
     },
     "user_tz": 360
    },
    "id": "9d74c0eb",
    "tags": []
   },
   "outputs": [],
   "source": [
    "utrain_dataset = keras.preprocessing.timeseries_dataset_from_array(\n",
    "    data = temperature[:-130],\n",
    "    targets = temperature[130:],\n",
    "    sequence_length = 120,\n",
    "    batch_size = 64,\n",
    "    start_index = 0,\n",
    "    end_index = num_train_samples)"
   ]
  },
  {
   "cell_type": "code",
   "execution_count": 10,
   "id": "c9f10fba",
   "metadata": {
    "executionInfo": {
     "elapsed": 143,
     "status": "ok",
     "timestamp": 1700111993579,
     "user": {
      "displayName": "Jesus Tolentino Ramirez",
      "userId": "05690869890081942440"
     },
     "user_tz": 360
    },
    "id": "ffc8b21d-0dcf-440c-84ba-d4c2ef5fa98e",
    "tags": []
   },
   "outputs": [],
   "source": [
    "uval_dataset = keras.utils.timeseries_dataset_from_array(\n",
    "    data = temperature[:-130],\n",
    "    targets = temperature[130:],\n",
    "    sequence_length = 120,\n",
    "    batch_size = 64,\n",
    "    start_index = num_train_samples,\n",
    "    end_index = num_train_samples + num_val_samples)"
   ]
  },
  {
   "cell_type": "code",
   "execution_count": 43,
   "id": "70c89e1d-df37-4a01-b230-f5d8b3acad9c",
   "metadata": {
    "tags": []
   },
   "outputs": [],
   "source": [
    "utest_dataset = keras.utils.timeseries_dataset_from_array(\n",
    "    data = temperature[:-130],\n",
    "    targets = temperature[130:],\n",
    "    sequence_length = 120,\n",
    "    batch_size = 64,\n",
    "    start_index = num_train_samples + num_val_samples,\n",
    "    end_index = len(temperature)-130-1)"
   ]
  },
  {
   "cell_type": "markdown",
   "id": "651387dd",
   "metadata": {
    "id": "3JkBixaz0L_7"
   },
   "source": [
    "Multivariate timeseries"
   ]
  },
  {
   "cell_type": "code",
   "execution_count": 11,
   "id": "b2dd4791",
   "metadata": {
    "id": "oHukWDg-mN2S",
    "tags": []
   },
   "outputs": [
    {
     "data": {
      "text/html": [
       "<div>\n",
       "<style scoped>\n",
       "    .dataframe tbody tr th:only-of-type {\n",
       "        vertical-align: middle;\n",
       "    }\n",
       "\n",
       "    .dataframe tbody tr th {\n",
       "        vertical-align: top;\n",
       "    }\n",
       "\n",
       "    .dataframe thead th {\n",
       "        text-align: right;\n",
       "    }\n",
       "</style>\n",
       "<table border=\"1\" class=\"dataframe\">\n",
       "  <thead>\n",
       "    <tr style=\"text-align: right;\">\n",
       "      <th></th>\n",
       "      <th>T (degC)</th>\n",
       "      <th>p (mbar)</th>\n",
       "      <th>rh (%)</th>\n",
       "      <th>H2OC (mmol/mol)</th>\n",
       "      <th>rho (g/m**3)</th>\n",
       "    </tr>\n",
       "  </thead>\n",
       "  <tbody>\n",
       "    <tr>\n",
       "      <th>0</th>\n",
       "      <td>-1.920636</td>\n",
       "      <td>0.913649</td>\n",
       "      <td>1.048015</td>\n",
       "      <td>-1.472032</td>\n",
       "      <td>2.124151</td>\n",
       "    </tr>\n",
       "    <tr>\n",
       "      <th>1</th>\n",
       "      <td>-1.965100</td>\n",
       "      <td>0.919528</td>\n",
       "      <td>1.054028</td>\n",
       "      <td>-1.493462</td>\n",
       "      <td>2.172914</td>\n",
       "    </tr>\n",
       "    <tr>\n",
       "      <th>2</th>\n",
       "      <td>-1.976501</td>\n",
       "      <td>0.914825</td>\n",
       "      <td>1.084097</td>\n",
       "      <td>-1.495843</td>\n",
       "      <td>2.183381</td>\n",
       "    </tr>\n",
       "    <tr>\n",
       "      <th>3</th>\n",
       "      <td>-1.953699</td>\n",
       "      <td>0.912474</td>\n",
       "      <td>1.102138</td>\n",
       "      <td>-1.481556</td>\n",
       "      <td>2.158404</td>\n",
       "    </tr>\n",
       "    <tr>\n",
       "      <th>4</th>\n",
       "      <td>-1.949139</td>\n",
       "      <td>0.912474</td>\n",
       "      <td>1.096124</td>\n",
       "      <td>-1.479175</td>\n",
       "      <td>2.153885</td>\n",
       "    </tr>\n",
       "  </tbody>\n",
       "</table>\n",
       "</div>"
      ],
      "text/plain": [
       "   T (degC)  p (mbar)    rh (%)  H2OC (mmol/mol)  rho (g/m**3)\n",
       "0 -1.920636  0.913649  1.048015        -1.472032      2.124151\n",
       "1 -1.965100  0.919528  1.054028        -1.493462      2.172914\n",
       "2 -1.976501  0.914825  1.084097        -1.495843      2.183381\n",
       "3 -1.953699  0.912474  1.102138        -1.481556      2.158404\n",
       "4 -1.949139  0.912474  1.096124        -1.479175      2.153885"
      ]
     },
     "execution_count": 11,
     "metadata": {},
     "output_type": "execute_result"
    }
   ],
   "source": [
    "### normalising data\n",
    "features = (features-features[:num_train_samples].mean(axis=0))/features[:num_train_samples].std(axis=0)\n",
    "features.head()"
   ]
  },
  {
   "cell_type": "code",
   "execution_count": 12,
   "id": "53bbe6f7",
   "metadata": {
    "executionInfo": {
     "elapsed": 170,
     "status": "ok",
     "timestamp": 1700111995266,
     "user": {
      "displayName": "Jesus Tolentino Ramirez",
      "userId": "05690869890081942440"
     },
     "user_tz": 360
    },
    "id": "c7dw0VrX0OQz",
    "tags": []
   },
   "outputs": [],
   "source": [
    "mtrain_dataset = keras.preprocessing.timeseries_dataset_from_array(\n",
    "    data = features[:-130],\n",
    "    targets = features.iloc[:, [0]],\n",
    "    sequence_length = 120,\n",
    "    batch_size = 64,\n",
    "    start_index = 0,\n",
    "    end_index = num_train_samples)"
   ]
  },
  {
   "cell_type": "code",
   "execution_count": 13,
   "id": "5b352d54",
   "metadata": {
    "executionInfo": {
     "elapsed": 271,
     "status": "ok",
     "timestamp": 1700111997096,
     "user": {
      "displayName": "Jesus Tolentino Ramirez",
      "userId": "05690869890081942440"
     },
     "user_tz": 360
    },
    "id": "OfGJHpr_0fAg",
    "tags": []
   },
   "outputs": [],
   "source": [
    "mval_dataset = keras.utils.timeseries_dataset_from_array(\n",
    "    data = features[:-130],\n",
    "    targets = features.iloc[:, [0]],\n",
    "    sequence_length = 120,\n",
    "    batch_size = 64,\n",
    "    start_index = num_train_samples,\n",
    "    end_index = num_train_samples + num_val_samples)"
   ]
  },
  {
   "cell_type": "code",
   "execution_count": 44,
   "id": "d9ea4693-721a-4e06-9779-e0ef308afdc1",
   "metadata": {
    "tags": []
   },
   "outputs": [],
   "source": [
    "mtest_dataset = keras.utils.timeseries_dataset_from_array(\n",
    "    data = features[:-130],\n",
    "    targets = features.iloc[:, [0]],\n",
    "    sequence_length = 120,\n",
    "    batch_size = 64,\n",
    "    start_index = num_train_samples + num_val_samples,\n",
    "    end_index = len(features)-131)"
   ]
  },
  {
   "cell_type": "markdown",
   "id": "1ac6f297",
   "metadata": {
    "id": "e3161089"
   },
   "source": [
    "## Using LSTM layer for the timeseries neural network"
   ]
  },
  {
   "cell_type": "code",
   "execution_count": 40,
   "id": "c0e8f960",
   "metadata": {
    "executionInfo": {
     "elapsed": 219,
     "status": "ok",
     "timestamp": 1700112000782,
     "user": {
      "displayName": "Jesus Tolentino Ramirez",
      "userId": "05690869890081942440"
     },
     "user_tz": 360
    },
    "id": "1e6ebdc6-db3a-4112-a29b-3b2828caac23",
    "tags": []
   },
   "outputs": [],
   "source": [
    "lr = 0.001\n",
    "epochs = 10"
   ]
  },
  {
   "cell_type": "code",
   "execution_count": 15,
   "id": "d13159d8",
   "metadata": {
    "colab": {
     "base_uri": "https://localhost:8080/"
    },
    "executionInfo": {
     "elapsed": 173,
     "status": "ok",
     "timestamp": 1700112002144,
     "user": {
      "displayName": "Jesus Tolentino Ramirez",
      "userId": "05690869890081942440"
     },
     "user_tz": 360
    },
    "id": "b3389a5d-c3dc-4929-bef5-fd77b07435d3",
    "outputId": "f770594d-4112-4b15-c955-2dbb99122ea4",
    "tags": []
   },
   "outputs": [
    {
     "name": "stdout",
     "output_type": "stream",
     "text": [
      "Univariate\n",
      "Input shape: (64, 120, 1) \n",
      "Target shape: (64, 1) \n",
      "\n",
      "Multivariate\n",
      "Input shape: (64, 120, 5) \n",
      "Target shape: (64, 1)\n"
     ]
    }
   ],
   "source": [
    "##  Piece of code to make sure that the dimensions of the datasets are in the shape that LSTM layer requires\n",
    "for batch in utrain_dataset.take(1):\n",
    "    uinputs, utargets = batch\n",
    "\n",
    "print('Univariate')\n",
    "print(\"Input shape:\", uinputs.shape, '\\nTarget shape:', utargets.shape, '\\n')\n",
    "\n",
    "for batch in mtrain_dataset.take(1):\n",
    "    minputs, mtargets = batch\n",
    "\n",
    "print('Multivariate')\n",
    "print(\"Input shape:\", minputs.shape, '\\nTarget shape:', mtargets.shape)"
   ]
  },
  {
   "cell_type": "code",
   "execution_count": 16,
   "id": "1f2e43b9",
   "metadata": {
    "colab": {
     "base_uri": "https://localhost:8080/"
    },
    "executionInfo": {
     "elapsed": 2661,
     "status": "ok",
     "timestamp": 1700112008308,
     "user": {
      "displayName": "Jesus Tolentino Ramirez",
      "userId": "05690869890081942440"
     },
     "user_tz": 360
    },
    "id": "0a5988f4",
    "outputId": "1550d864-0361-4c9b-91c8-4bac3a52de6e",
    "tags": []
   },
   "outputs": [
    {
     "name": "stdout",
     "output_type": "stream",
     "text": [
      "Model: \"sequential\"\n",
      "_________________________________________________________________\n",
      " Layer (type)                Output Shape              Param #   \n",
      "=================================================================\n",
      " lstm (LSTM)                 (None, 8)                 320       \n",
      "                                                                 \n",
      " dense (Dense)               (None, 1)                 9         \n",
      "                                                                 \n",
      "=================================================================\n",
      "Total params: 329 (1.29 KB)\n",
      "Trainable params: 329 (1.29 KB)\n",
      "Non-trainable params: 0 (0.00 Byte)\n",
      "_________________________________________________________________\n"
     ]
    }
   ],
   "source": [
    "model = Sequential()\n",
    "model.add(LSTM(8, input_shape=(uinputs.shape[1], uinputs.shape[2])))  # (sequence_lenght=120 , features(temperature)=1)\n",
    "model.add(Dense(1))\n",
    "\n",
    "model.compile(optimizer='adam', loss='mae')\n",
    "model.summary()"
   ]
  },
  {
   "cell_type": "code",
   "execution_count": 19,
   "id": "e78237ea",
   "metadata": {
    "colab": {
     "base_uri": "https://localhost:8080/",
     "height": 482
    },
    "executionInfo": {
     "elapsed": 273394,
     "status": "error",
     "timestamp": 1700112293332,
     "user": {
      "displayName": "Jesus Tolentino Ramirez",
      "userId": "05690869890081942440"
     },
     "user_tz": 360
    },
    "id": "80d4ebac-56ee-4786-a6d1-b6230f16b9e6",
    "outputId": "10bc184f-77d8-49fa-c0f5-d1e781aa9915",
    "tags": []
   },
   "outputs": [
    {
     "name": "stdout",
     "output_type": "stream",
     "text": [
      "Epoch 1/10\n",
      "3283/3283 [==============================] - 94s 28ms/step - loss: 0.1691 - val_loss: 0.1783\n",
      "Epoch 2/10\n",
      "   4/3283 [..............................] - ETA: 1:13 - loss: 0.1103"
     ]
    },
    {
     "name": "stderr",
     "output_type": "stream",
     "text": [
      "/home/dynamix/anaconda3/lib/python3.11/site-packages/keras/src/engine/training.py:3079: UserWarning: You are saving your model as an HDF5 file via `model.save()`. This file format is considered legacy. We recommend using instead the native Keras format, e.g. `model.save('my_model.keras')`.\n",
      "  saving_api.save_model(\n"
     ]
    },
    {
     "name": "stdout",
     "output_type": "stream",
     "text": [
      "3283/3283 [==============================] - 91s 28ms/step - loss: 0.1231 - val_loss: 0.1269\n",
      "Epoch 3/10\n",
      "3283/3283 [==============================] - 86s 26ms/step - loss: 0.1155 - val_loss: 0.1190\n",
      "Epoch 4/10\n",
      "3283/3283 [==============================] - 90s 27ms/step - loss: 0.1122 - val_loss: 0.1198\n",
      "Epoch 5/10\n",
      "3283/3283 [==============================] - 88s 27ms/step - loss: 0.1102 - val_loss: 0.1201\n",
      "Epoch 6/10\n",
      "3283/3283 [==============================] - 89s 27ms/step - loss: 0.1089 - val_loss: 0.1185\n",
      "Epoch 7/10\n",
      "3283/3283 [==============================] - 87s 27ms/step - loss: 0.1080 - val_loss: 0.1170\n",
      "Epoch 8/10\n",
      "3283/3283 [==============================] - 90s 27ms/step - loss: 0.1072 - val_loss: 0.1159\n",
      "Epoch 9/10\n",
      "3283/3283 [==============================] - 89s 27ms/step - loss: 0.1063 - val_loss: 0.1152\n",
      "Epoch 10/10\n",
      "3283/3283 [==============================] - 92s 28ms/step - loss: 0.1056 - val_loss: 0.1148\n"
     ]
    }
   ],
   "source": [
    "checkpoint = ModelCheckpoint('BestModel.hdf5', monitor='val_loss', save_best_only=True, mode='min')\n",
    "history = model.fit(utrain_dataset, epochs=epochs, validation_data=uval_dataset, callbacks=[checkpoint])"
   ]
  },
  {
   "cell_type": "code",
   "execution_count": 20,
   "id": "af1fc720",
   "metadata": {
    "colab": {
     "base_uri": "https://localhost:8080/"
    },
    "executionInfo": {
     "elapsed": 227,
     "status": "ok",
     "timestamp": 1700085928320,
     "user": {
      "displayName": "Jesus Tolentino Ramirez",
      "userId": "05690869890081942440"
     },
     "user_tz": 360
    },
    "id": "4EAlCyH0Aq1n",
    "outputId": "663ec4c4-6f20-47a6-a429-16b89525b487",
    "tags": []
   },
   "outputs": [
    {
     "name": "stdout",
     "output_type": "stream",
     "text": [
      "Model: \"sequential_1\"\n",
      "_________________________________________________________________\n",
      " Layer (type)                Output Shape              Param #   \n",
      "=================================================================\n",
      " lstm_1 (LSTM)               (None, 8)                 448       \n",
      "                                                                 \n",
      " dense_1 (Dense)             (None, 1)                 9         \n",
      "                                                                 \n",
      "=================================================================\n",
      "Total params: 457 (1.79 KB)\n",
      "Trainable params: 457 (1.79 KB)\n",
      "Non-trainable params: 0 (0.00 Byte)\n",
      "_________________________________________________________________\n"
     ]
    }
   ],
   "source": [
    "model2 = Sequential()\n",
    "model2.add(LSTM(8, input_shape=(minputs.shape[1], minputs.shape[2])))  # (sequence_lenght=120 , features=4)\n",
    "model2.add(Dense(1))\n",
    "\n",
    "model2.compile(optimizer='adam', loss='mae')\n",
    "model2.summary()\n"
   ]
  },
  {
   "cell_type": "code",
   "execution_count": 21,
   "id": "2b2c58cb",
   "metadata": {
    "colab": {
     "base_uri": "https://localhost:8080/"
    },
    "executionInfo": {
     "elapsed": 699295,
     "status": "ok",
     "timestamp": 1700086638703,
     "user": {
      "displayName": "Jesus Tolentino Ramirez",
      "userId": "05690869890081942440"
     },
     "user_tz": 360
    },
    "id": "2wALNQldA4An",
    "outputId": "9f5de216-79d5-4191-fac4-8c4ffab3bf55",
    "tags": []
   },
   "outputs": [
    {
     "name": "stdout",
     "output_type": "stream",
     "text": [
      "Epoch 1/10\n",
      "3283/3283 [==============================] - 90s 27ms/step - loss: 0.3911 - val_loss: 0.3314\n",
      "Epoch 2/10\n",
      "3283/3283 [==============================] - 96s 29ms/step - loss: 0.3412 - val_loss: 0.3269\n",
      "Epoch 3/10\n",
      "3283/3283 [==============================] - 93s 28ms/step - loss: 0.3327 - val_loss: 0.3253\n",
      "Epoch 4/10\n",
      "3283/3283 [==============================] - 93s 28ms/step - loss: 0.3284 - val_loss: 0.3283\n",
      "Epoch 5/10\n",
      "3283/3283 [==============================] - 93s 28ms/step - loss: 0.3253 - val_loss: 0.3326\n",
      "Epoch 6/10\n",
      "3283/3283 [==============================] - 102s 31ms/step - loss: 0.3232 - val_loss: 0.3342\n",
      "Epoch 7/10\n",
      "3283/3283 [==============================] - 91s 28ms/step - loss: 0.3213 - val_loss: 0.3347\n",
      "Epoch 8/10\n",
      "3283/3283 [==============================] - 89s 27ms/step - loss: 0.3185 - val_loss: 0.3262\n",
      "Epoch 9/10\n",
      "3283/3283 [==============================] - 90s 27ms/step - loss: 0.3134 - val_loss: 0.3185\n",
      "Epoch 10/10\n",
      "3283/3283 [==============================] - 87s 26ms/step - loss: 0.2951 - val_loss: 0.2502\n"
     ]
    }
   ],
   "source": [
    "checkpoint2 = ModelCheckpoint('BestModel2.hdf5', monitor='val_loss', save_best_only=True, mode='min')\n",
    "history2 = model2.fit(mtrain_dataset, epochs=epochs, validation_data=mval_dataset, callbacks=[checkpoint2])"
   ]
  },
  {
   "cell_type": "code",
   "execution_count": 28,
   "id": "09530260-efc6-406b-9da4-b35eca5db311",
   "metadata": {
    "tags": []
   },
   "outputs": [],
   "source": [
    "# model_best_univariate = load_model(\"BestModel.hdf5\")\n",
    "# # model_best_multivariate = load_model(\"BestModel2.hdf5\")"
   ]
  },
  {
   "cell_type": "markdown",
   "id": "413a8a22-2eb9-4eca-9ece-72de3de9a6ac",
   "metadata": {},
   "source": [
    "## Visualizing the learning"
   ]
  },
  {
   "cell_type": "code",
   "execution_count": 39,
   "id": "f0473c66-8548-4575-a413-023931e685bb",
   "metadata": {
    "tags": []
   },
   "outputs": [
    {
     "data": {
      "image/png": "[encoded data removed]",
      "text/plain": [
       "<Figure size 640x480 with 1 Axes>"
      ]
     },
     "metadata": {},
     "output_type": "display_data"
    }
   ],
   "source": [
    "## Here i extract the values of the loss at the end of each epoch to plot it vs  no. of epochs\n",
    "loss = history.history[\"loss\"]\n",
    "loss2 = history2.history[\"loss\"]\n",
    "epoch = range(10)\n",
    "\n",
    "fig, ax = plt.subplots()\n",
    "ax.set_title(\"Losses\")\n",
    "ax.set_xlabel(\"epochs\")\n",
    "ax.set_ylabel(\"loss\")\n",
    "ax.plot(epoch, loss, label=\"Univariate\")\n",
    "ax.plot(epoch, loss2, label=\"Multivariate\")\n",
    "ax.legend()\n",
    "plt.show()"
   ]
  },
  {
   "cell_type": "markdown",
   "id": "118f6c76-825f-46ea-a673-652249186a55",
   "metadata": {},
   "source": [
    "## Predicting temperature using only past temperatures"
   ]
  },
  {
   "cell_type": "code",
   "execution_count": 164,
   "id": "3e75605f-befc-42ba-8c7a-cd4896266cf1",
   "metadata": {
    "tags": []
   },
   "outputs": [
    {
     "name": "stdout",
     "output_type": "stream",
     "text": [
      "Input shape: (64, 120, 1) \n",
      "Target shape: (64, 1) \n",
      "\n"
     ]
    }
   ],
   "source": [
    "for batch in utest_dataset.take(1):\n",
    "    upast, ufuture = batch\n",
    "    \n",
    "print(\"Input shape:\", upast.shape, '\\nTarget shape:', ufuture.shape, '\\n')"
   ]
  },
  {
   "cell_type": "code",
   "execution_count": 165,
   "id": "b8a081cf-36e8-477b-81ca-f4fbae2e391d",
   "metadata": {
    "tags": []
   },
   "outputs": [
    {
     "name": "stdout",
     "output_type": "stream",
     "text": [
      "2/2 [==============================] - 0s 5ms/step\n",
      "64\n"
     ]
    }
   ],
   "source": [
    "predicted = model.predict(upast)\n",
    "print(len(predicted))"
   ]
  },
  {
   "cell_type": "code",
   "execution_count": 206,
   "id": "4ec4be7f-ba57-4b2a-b101-4fcb45cd031d",
   "metadata": {
    "tags": []
   },
   "outputs": [
    {
     "data": {
      "image/png": "[encoded data removed]",
      "text/plain": [
       "<Figure size 640x480 with 1 Axes>"
      ]
     },
     "metadata": {},
     "output_type": "display_data"
    }
   ],
   "source": [
    "n = 0\n",
    "h_timpestamps = range(len(upast[n]))\n",
    "\n",
    "fig, ax = plt.subplots()\n",
    "ax.set_title(\"Temperature after ~2 hours\")\n",
    "ax.set_xlabel(\"timestamps\")\n",
    "ax.set_ylabel(\"temperature (k) [normalised]\")\n",
    "ax.plot(h_timpestamps, upast[n], label=\"history\", color=\"k\")\n",
    "ax.plot(130, ufuture[n], \"og\", label=\"true value\")\n",
    "ax.plot(130, predicted[n], \"xr\", label=\"prediction\")\n",
    "ax.legend()\n",
    "plt.show()"
   ]
  },
  {
   "cell_type": "markdown",
   "id": "4de3bf15-0a08-4c54-a1c3-93de8f37276d",
   "metadata": {},
   "source": [
    "## Predictions of temperature using other parameters"
   ]
  },
  {
   "cell_type": "code",
   "execution_count": 167,
   "id": "62e5e58a-7c6c-4bf9-8292-d4f14519d674",
   "metadata": {
    "tags": []
   },
   "outputs": [
    {
     "name": "stdout",
     "output_type": "stream",
     "text": [
      "Input shape: (32, 120, 5) \n",
      "Target shape: (32, 1) \n",
      "\n"
     ]
    }
   ],
   "source": [
    "for batch in mtest_dataset:\n",
    "    mpast, mfuture = batch\n",
    "\n",
    "print(\"Input shape:\", mpast.shape, '\\nTarget shape:', mfuture.shape, '\\n')"
   ]
  },
  {
   "cell_type": "code",
   "execution_count": 168,
   "id": "98931a16-d7ea-4aba-9162-f18d4a47a657",
   "metadata": {
    "tags": []
   },
   "outputs": [
    {
     "name": "stdout",
     "output_type": "stream",
     "text": [
      "1/1 [==============================] - 0s 291ms/step\n",
      "32\n"
     ]
    }
   ],
   "source": [
    "predicted2 = model2.predict(mpast)\n",
    "print(len(predicted2))"
   ]
  },
  {
   "cell_type": "code",
   "execution_count": 207,
   "id": "0c3533e0-20cf-444a-a251-236e48ad2b81",
   "metadata": {
    "tags": []
   },
   "outputs": [
    {
     "data": {
      "image/png": "[encoded data removed]",
      "text/plain": [
       "<Figure size 640x480 with 1 Axes>"
      ]
     },
     "metadata": {},
     "output_type": "display_data"
    }
   ],
   "source": [
    "n = 0\n",
    "h_timpestamps = range(len(mpast[n]))\n",
    "\n",
    "fig, ax = plt.subplots()\n",
    "ax.set_title(\"Temperature after ~2 hours (using not only temperature data)\")\n",
    "ax.set_xlabel(\"timestamps\")\n",
    "ax.set_ylabel(\"temperature (k) [normalised]\")\n",
    "ax.plot(h_timpestamps, mpast[n, :, 0], label=\"history\", color=\"k\")\n",
    "ax.plot(130, mfuture[n], \"og\", label=\"true value\")\n",
    "ax.plot(130, predicted[n], \"xr\", label=\"prediction\")\n",
    "ax.legend()\n",
    "plt.show()"
   ]
  }
 ],
 "metadata": {
  "accelerator": "TPU",
  "colab": {
   "provenance": [
    {
     "file_id": "1jG6q-qYa-JzB5X6AdJmfnwLT9jRyvIo9",
     "timestamp": 1699996031870
    }
   ]
  },
  "kaggle": {
   "accelerator": "nvidiaTeslaT4",
   "dataSources": [
    {
     "datasetId": 4010157,
     "sourceId": 6978591,
     "sourceType": "datasetVersion"
    }
   ],
   "dockerImageVersionId": 30588,
   "isGpuEnabled": true,
   "isInternetEnabled": false,
   "language": "python",
   "sourceType": "notebook"
  },
  "kernelspec": {
   "display_name": "Python 3 (ipykernel)",
   "language": "python",
   "name": "python3"
  },
  "language_info": {
   "codemirror_mode": {
    "name": "ipython",
    "version": 3
   },
   "file_extension": ".py",
   "mimetype": "text/x-python",
   "name": "python",
   "nbconvert_exporter": "python",
   "pygments_lexer": "ipython3",
   "version": "3.11.5"
  }
 },
 "nbformat": 4,
 "nbformat_minor": 5
}
